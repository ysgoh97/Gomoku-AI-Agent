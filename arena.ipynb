{
 "cells": [
  {
   "cell_type": "markdown",
   "id": "1cae3b3f",
   "metadata": {},
   "source": [
    "# Load Agents"
   ]
  },
  {
   "cell_type": "code",
   "execution_count": null,
   "id": "2449fb98",
   "metadata": {},
   "outputs": [],
   "source": [
    "#!pip install git+https://github.com/sitfoxfly/gomoku-ai"
   ]
  },
  {
   "cell_type": "code",
   "execution_count": null,
   "id": "f71420cd",
   "metadata": {},
   "outputs": [],
   "source": [
    "import os, json\n",
    "\n",
    "with open(\"secrets.json\") as f:\n",
    "    secrets = json.load(f)\n",
    "os.environ[\"OPENAI_API_KEY\"] = secrets[\"OPENAI_API_KEY\"]\n",
    "os.environ[\"OPENAI_BASE_URL\"] = secrets[\"OPENAI_BASE_URL\"]"
   ]
  },
  {
   "cell_type": "code",
   "execution_count": null,
   "id": "af240927",
   "metadata": {},
   "outputs": [],
   "source": [
    "!python -m gomoku --discover-agents . list --detailed"
   ]
  },
  {
   "cell_type": "markdown",
   "id": "b0cff5a5",
   "metadata": {},
   "source": [
    "# Arena"
   ]
  },
  {
   "cell_type": "markdown",
   "id": "b94cc140",
   "metadata": {},
   "source": [
    "## Mochen"
   ]
  },
  {
   "cell_type": "markdown",
   "id": "6588a944",
   "metadata": {},
   "source": [
    "### v.s. Phi-3.5-mini-instruct"
   ]
  },
  {
   "cell_type": "code",
   "execution_count": null,
   "id": "ddd524b1",
   "metadata": {},
   "outputs": [],
   "source": [
    "# !python -m gomoku \\\n",
    "#     --discover-agents . \\\n",
    "#     play --log runs/mc_vs_phi.json --html \\\n",
    "#     mochen_agent.GomokuAgent:mochen \\\n",
    "#     gomoku.agents.hf_llm_agent.HfGomokuAgent:phi\n",
    "\n",
    "# !python -m gomoku \\\n",
    "#     --discover-agents . \\\n",
    "#     play --log runs/phi_vs_mc.json --html \\\n",
    "#     gomoku.agents.hf_llm_agent.HfGomokuAgent:phi \\\n",
    "#     mochen_agent.GomokuAgent:mochen"
   ]
  },
  {
   "cell_type": "markdown",
   "id": "7490726d",
   "metadata": {},
   "source": [
    "### v.s. Mistral-7B-Instruct-v0.3 "
   ]
  },
  {
   "cell_type": "code",
   "execution_count": null,
   "id": "7e37f90a",
   "metadata": {},
   "outputs": [],
   "source": [
    "!python -m gomoku \\\n",
    "    --discover-agents . \\\n",
    "    play --log runs/mc_vs_mistral.json --html \\\n",
    "    mochen_agent.GomokuAgent:mochen \\\n",
    "    gomoku.agents.openai_llm_agent.LLMGomokuAgent:mistral\n",
    "\n",
    "# !python -m gomoku \\\n",
    "#     --discover-agents . \\\n",
    "#     play --log runs/mistral_vs_mc.json --html \\\n",
    "#     gomoku.agents.openai_llm_agent.LLMGomokuAgent:mistral \\\n",
    "#     mochen_agent.GomokuAgent:mochen"
   ]
  },
  {
   "cell_type": "markdown",
   "id": "e003f0fc",
   "metadata": {},
   "source": [
    "### v.s. Seng Zhan"
   ]
  },
  {
   "cell_type": "code",
   "execution_count": null,
   "id": "860e36c6",
   "metadata": {},
   "outputs": [],
   "source": [
    "!python -m gomoku \\\n",
    "    --discover-agents . \\\n",
    "    play --log runs/mc_vs_sz.json --html \\\n",
    "    mochen_agent.GomokuAgent:mochen \\\n",
    "    sengzhan_agent.GomokuAgent:sengzhan\n",
    "\n",
    "# !python -m gomoku \\\n",
    "#     --discover-agents . \\\n",
    "#     play --log runs/sz_vs_mc.json --html \\\n",
    "#     sengzhan_agent.GomokuAgent:sengzhan \\\n",
    "#     mochen_agent.GomokuAgent:mochen"
   ]
  },
  {
   "cell_type": "markdown",
   "id": "921a0a88",
   "metadata": {},
   "source": [
    "### v.s. Yun Si"
   ]
  },
  {
   "cell_type": "code",
   "execution_count": null,
   "id": "cd0e02bf",
   "metadata": {},
   "outputs": [],
   "source": [
    "!python -m gomoku \\\n",
    "    --discover-agents . \\\n",
    "    play --log runs/mc_vs_ys.json --html \\\n",
    "    mochen_agent.GomokuAgent:mochen \\\n",
    "    yunsi_agent.GomokuAgent:yunsi\n",
    "\n",
    "# !python -m gomoku \\\n",
    "#     --discover-agents . \\\n",
    "#     play --log runs/ys_vs_mc.json --html \\\n",
    "#     yunsi_agent.GomokuAgent:yunsi \\\n",
    "#     mochen_agent.GomokuAgent:mochen"
   ]
  },
  {
   "cell_type": "markdown",
   "id": "aacd6910",
   "metadata": {},
   "source": [
    "### v.s. Current Best"
   ]
  },
  {
   "cell_type": "code",
   "execution_count": null,
   "id": "1e7e09b5",
   "metadata": {},
   "outputs": [],
   "source": [
    "!python -m gomoku \\\n",
    "    --discover-agents . \\\n",
    "    play --log runs/mc_vs_gomoku.json --html \\\n",
    "    mochen_agent.GomokuAgent:mochen \\\n",
    "    gomoku_agent.GomokuAgent:GOMOKU\n",
    "\n",
    "# !python -m gomoku \\\n",
    "#     --discover-agents . \\\n",
    "#     play --log runs/gomoku_vs_mc.json --html \\\n",
    "#     gomoku_agent.GomokuAgent:GOMOKU \\\n",
    "#     mochen_agent.GomokuAgent:mochen"
   ]
  },
  {
   "cell_type": "markdown",
   "id": "397b414d",
   "metadata": {},
   "source": [
    "## Seng Zhan"
   ]
  },
  {
   "cell_type": "markdown",
   "id": "b7c1e91a",
   "metadata": {},
   "source": [
    "### v.s. Phi-3.5-mini-instruct"
   ]
  },
  {
   "cell_type": "code",
   "execution_count": null,
   "id": "06d32d6a",
   "metadata": {},
   "outputs": [],
   "source": [
    "# !python -m gomoku \\\n",
    "#     --discover-agents . \\\n",
    "#     play --log runs/sz_vs_phi.json --html \\\n",
    "#     sengzhan_agent.GomokuAgent:sengzhan \\\n",
    "#     gomoku.agents.hf_llm_agent.HfGomokuAgent:phi\n",
    "\n",
    "# !python -m gomoku \\\n",
    "#     --discover-agents . \\\n",
    "#     play --log runs/phi_vs_sz.json --html \\\n",
    "#     gomoku.agents.hf_llm_agent.HfGomokuAgent:phi \\\n",
    "#     sengzhan_agent.GomokuAgent:sengzhan"
   ]
  },
  {
   "cell_type": "markdown",
   "id": "451fb629",
   "metadata": {},
   "source": [
    "### v.s. Mistral-7B-Instruct-v0.3"
   ]
  },
  {
   "cell_type": "code",
   "execution_count": null,
   "id": "a7fc2208",
   "metadata": {},
   "outputs": [],
   "source": [
    "!python -m gomoku \\\n",
    "    --discover-agents . \\\n",
    "    play --log runs/sz_vs_mistral.json --html \\\n",
    "    sengzhan_agent.GomokuAgent:sengzhan \\\n",
    "    gomoku.agents.openai_llm_agent.LLMGomokuAgent:mistral\n",
    "\n",
    "# !python -m gomoku \\\n",
    "#     --discover-agents . \\\n",
    "#     play --log runs/mistral_vs_sz.json --html \\\n",
    "#     gomoku.agents.openai_llm_agent.LLMGomokuAgent:mistral \\\n",
    "#     sengzhan_agent.GomokuAgent:sengzhan"
   ]
  },
  {
   "cell_type": "markdown",
   "id": "7e1c523b",
   "metadata": {},
   "source": [
    "### v.s. Mochen"
   ]
  },
  {
   "cell_type": "code",
   "execution_count": null,
   "id": "d5e2de70",
   "metadata": {},
   "outputs": [],
   "source": [
    "!python -m gomoku \\\n",
    "    --discover-agents . \\\n",
    "    play --log runs/sz_vs_mc.json --html \\\n",
    "    sengzhan_agent.GomokuAgent:sengzhan \\\n",
    "    mochen_agent.GomokuAgent:mochen\n",
    "\n",
    "# !python -m gomoku \\\n",
    "#     --discover-agents . \\\n",
    "#     play --log runs/mc_vs_sz.json --html \\\n",
    "#     mochen_agent.GomokuAgent:mochen \\\n",
    "#     sengzhan_agent.GomokuAgent:sengzhan"
   ]
  },
  {
   "cell_type": "markdown",
   "id": "b7eab649",
   "metadata": {},
   "source": [
    "### v.s. Yun Si"
   ]
  },
  {
   "cell_type": "code",
   "execution_count": null,
   "id": "88610e64",
   "metadata": {},
   "outputs": [],
   "source": [
    "!python -m gomoku \\\n",
    "    --discover-agents . \\\n",
    "    play --log runs/sz_vs_ys.json --html \\\n",
    "    sengzhan_agent.GomokuAgent:sengzhan \\\n",
    "    yunsi_agent.GomokuAgent:yunsi\n",
    "\n",
    "# !python -m gomoku \\\n",
    "#     --discover-agents . \\\n",
    "#     play --log runs/ys_vs_sz.json --html \\\n",
    "#     yunsi_agent.GomokuAgent:yunsi \\\n",
    "#     sengzhan_agent.GomokuAgent:sengzhan"
   ]
  },
  {
   "cell_type": "markdown",
   "id": "c3ad1502",
   "metadata": {},
   "source": [
    "### v.s. Current Best"
   ]
  },
  {
   "cell_type": "code",
   "execution_count": null,
   "id": "3fe09e41",
   "metadata": {},
   "outputs": [],
   "source": [
    "!python -m gomoku \\\n",
    "    --discover-agents . \\\n",
    "    play --log runs/sz_vs_gomoku.json --html \\\n",
    "    sengzhan_agent.GomokuAgent:sengzhan \\\n",
    "    gomoku_agent.GomokuAgent:GOMOKU\n",
    "\n",
    "# !python -m gomoku \\\n",
    "#     --discover-agents . \\\n",
    "#     play --log runs/gomoku_vs_sz.json --html \\\n",
    "#     gomoku_agent.GomokuAgent:GOMOKU \\\n",
    "#     sengzhan_agent.GomokuAgent:sengzhan"
   ]
  },
  {
   "cell_type": "markdown",
   "id": "e94bdbde",
   "metadata": {},
   "source": [
    "## Yun Si"
   ]
  },
  {
   "cell_type": "markdown",
   "id": "c08ecca5",
   "metadata": {},
   "source": [
    "### v.s. Phi-3.5-mini-instruct"
   ]
  },
  {
   "cell_type": "code",
   "execution_count": null,
   "id": "0945c965",
   "metadata": {},
   "outputs": [],
   "source": [
    "# !python -m gomoku \\\n",
    "#     --discover-agents . \\\n",
    "#     play --log runs/ys_vs_phi.json --html \\\n",
    "#     yunsi_agent.GomokuAgent:yunsi \\\n",
    "#     gomoku.agents.hf_llm_agent.HfGomokuAgent:phi\n",
    "\n",
    "# !python -m gomoku \\\n",
    "#     --discover-agents . \\\n",
    "#     play --log runs/phi_vs_ys.json --html \\\n",
    "#     gomoku.agents.hf_llm_agent.HfGomokuAgent:phi \\\n",
    "#     yunsi_agent.GomokuAgent:yunsi"
   ]
  },
  {
   "cell_type": "markdown",
   "id": "7a6cfd8c",
   "metadata": {},
   "source": [
    "### v.s. Mistral-7B-Instruct-v0.3"
   ]
  },
  {
   "cell_type": "code",
   "execution_count": null,
   "id": "c65c0a9e",
   "metadata": {},
   "outputs": [],
   "source": [
    "!python -m gomoku \\\n",
    "    --discover-agents . \\\n",
    "    play --log runs/ys_vs_mistral.json --html \\\n",
    "    yunsi_agent.GomokuAgent:yunsi \\\n",
    "    gomoku.agents.openai_llm_agent.LLMGomokuAgent:mistral\n",
    "\n",
    "# !python -m gomoku \\\n",
    "#     --discover-agents . \\\n",
    "#     play --log runs/mistral_vs_ys.json --html \\\n",
    "#     gomoku.agents.openai_llm_agent.LLMGomokuAgent:mistral \\\n",
    "#     yunsi_agent.GomokuAgent:yunsi"
   ]
  },
  {
   "cell_type": "markdown",
   "id": "81faf9dc",
   "metadata": {},
   "source": [
    "### v.s. Mochen"
   ]
  },
  {
   "cell_type": "code",
   "execution_count": null,
   "id": "5147c356",
   "metadata": {},
   "outputs": [],
   "source": [
    "!python -m gomoku \\\n",
    "    --discover-agents . \\\n",
    "    play --log runs/ys_vs_mc.json --html \\\n",
    "    yunsi_agent.GomokuAgent:yunsi \\\n",
    "    mochen_agent.GomokuAgent:mochen\n",
    "\n",
    "# !python -m gomoku \\\n",
    "#     --discover-agents . \\\n",
    "#     play --log runs/mc_vs_ys.json --html \\\n",
    "#     mochen_agent.GomokuAgent:mochen \\\n",
    "#     yunsi_agent.GomokuAgent:yunsi"
   ]
  },
  {
   "cell_type": "markdown",
   "id": "497cd200",
   "metadata": {},
   "source": [
    "### v.s. Seng Zhan"
   ]
  },
  {
   "cell_type": "code",
   "execution_count": null,
   "id": "099d71cd",
   "metadata": {},
   "outputs": [],
   "source": [
    "!python -m gomoku \\\n",
    "    --discover-agents . \\\n",
    "    play --log runs/ys_vs_sz.json --html \\\n",
    "    yunsi_agent.GomokuAgent:yunsi \\\n",
    "    sengzhan_agent.GomokuAgent:sengzhan\n",
    "\n",
    "# !python -m gomoku \\\n",
    "#     --discover-agents . \\\n",
    "#     play --log runs/sz_vs_ys.json --html \\\n",
    "#     sengzhan_agent.GomokuAgent:sengzhan \\\n",
    "#     yunsi_agent.GomokuAgent:yunsi"
   ]
  },
  {
   "cell_type": "markdown",
   "id": "b8b9154e",
   "metadata": {},
   "source": [
    "### v.s. Current Best"
   ]
  },
  {
   "cell_type": "code",
   "execution_count": null,
   "id": "6d326bb0",
   "metadata": {},
   "outputs": [],
   "source": [
    "!python -m gomoku \\\n",
    "    --discover-agents . \\\n",
    "    play --log runs/ys_vs_gomoku.json --html \\\n",
    "    yunsi_agent.GomokuAgent:yunsi \\\n",
    "    gomoku_agent.GomokuAgent:GOMOKU\n",
    "\n",
    "# !python -m gomoku \\\n",
    "#     --discover-agents . \\\n",
    "#     play --log runs/gomoku_vs_ys.json --html \\\n",
    "#     gomoku_agent.GomokuAgent:GOMOKU \\\n",
    "#     yunsi_agent.GomokuAgent:yunsi"
   ]
  }
 ],
 "metadata": {
  "kernelspec": {
   "display_name": "mitb",
   "language": "python",
   "name": "python3"
  },
  "language_info": {
   "codemirror_mode": {
    "name": "ipython",
    "version": 3
   },
   "file_extension": ".py",
   "mimetype": "text/x-python",
   "name": "python",
   "nbconvert_exporter": "python",
   "pygments_lexer": "ipython3",
   "version": "3.12.0"
  }
 },
 "nbformat": 4,
 "nbformat_minor": 5
}
