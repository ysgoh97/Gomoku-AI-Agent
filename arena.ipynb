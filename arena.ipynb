{
 "cells": [
  {
   "cell_type": "markdown",
   "id": "1cae3b3f",
   "metadata": {},
   "source": [
    "# Load Agents"
   ]
  },
  {
   "cell_type": "code",
   "execution_count": null,
   "id": "2449fb98",
   "metadata": {},
   "outputs": [],
   "source": [
    "#!pip install git+https://github.com/sitfoxfly/gomoku-ai"
   ]
  },
  {
   "cell_type": "code",
   "execution_count": null,
   "id": "f71420cd",
   "metadata": {},
   "outputs": [],
   "source": [
    "import os, shutil, json\n",
    "\n",
    "with open(\"secrets.json\") as f:\n",
    "    secrets = json.load(f)\n",
    "os.environ[\"OPENAI_API_KEY\"] = secrets[\"OPENAI_API_KEY\"]\n",
    "os.environ[\"OPENAI_BASE_URL\"] = secrets[\"OPENAI_BASE_URL\"]"
   ]
  },
  {
   "cell_type": "code",
   "execution_count": null,
   "id": "af240927",
   "metadata": {},
   "outputs": [],
   "source": [
    "!python -m gomoku --discover-agents . list --detailed"
   ]
  },
  {
   "cell_type": "markdown",
   "id": "b0cff5a5",
   "metadata": {},
   "source": [
    "# Arena"
   ]
  },
  {
   "cell_type": "markdown",
   "id": "b94cc140",
   "metadata": {},
   "source": [
    "## Mochen"
   ]
  },
  {
   "cell_type": "markdown",
   "id": "f8fe33c2",
   "metadata": {},
   "source": [
    "### Mochen v.s. Simple"
   ]
  },
  {
   "cell_type": "code",
   "execution_count": null,
   "id": "ff00e8d5",
   "metadata": {},
   "outputs": [],
   "source": [
    "!python -m gomoku \\\n",
    "    --discover-agents . \\\n",
    "    play --log runs/mochen_vs_simple.json --html \\\n",
    "    mochen_agent.GomokuAgent:mochen \\\n",
    "    gomoku.agents.simple_agent.SimpleGomokuAgent:simple"
   ]
  },
  {
   "cell_type": "markdown",
   "id": "6588a944",
   "metadata": {},
   "source": [
    "### Mochen v.s. Phi-3.5-mini-instruct"
   ]
  },
  {
   "cell_type": "code",
   "execution_count": null,
   "id": "ddd524b1",
   "metadata": {},
   "outputs": [],
   "source": [
    "# !python -m gomoku \\\n",
    "#     --discover-agents . \\\n",
    "#     play --log runs/mochen_vs_phi.json --html \\\n",
    "#     mochen_agent.GomokuAgent:mochen \\\n",
    "#     gomoku.agents.hf_llm_agent.HfGomokuAgent:phi"
   ]
  },
  {
   "cell_type": "markdown",
   "id": "7490726d",
   "metadata": {},
   "source": [
    "### Mochen v.s. Mistral-7B-Instruct-v0.3 "
   ]
  },
  {
   "cell_type": "code",
   "execution_count": null,
   "id": "7e37f90a",
   "metadata": {},
   "outputs": [],
   "source": [
    "!python -m gomoku \\\n",
    "    --discover-agents . \\\n",
    "    play --log runs/mochen_vs_mistral.json --html \\\n",
    "    mochen_agent.GomokuAgent:mochen \\\n",
    "    gomoku.agents.openai_llm_agent.LLMGomokuAgent:mistral"
   ]
  },
  {
   "cell_type": "markdown",
   "id": "e003f0fc",
   "metadata": {},
   "source": [
    "### Mochen v.s. Seng Zhan"
   ]
  },
  {
   "cell_type": "code",
   "execution_count": null,
   "id": "860e36c6",
   "metadata": {},
   "outputs": [],
   "source": [
    "!python -m gomoku \\\n",
    "    --discover-agents . \\\n",
    "    play --log runs/mochen_vs_sengzhan.json --html \\\n",
    "    mochen_agent.GomokuAgent:mochen \\\n",
    "    sengzhan_agent.GomokuAgent:sengzhan"
   ]
  },
  {
   "cell_type": "markdown",
   "id": "921a0a88",
   "metadata": {},
   "source": [
    "### Mochen v.s. Yun Si"
   ]
  },
  {
   "cell_type": "code",
   "execution_count": null,
   "id": "cd0e02bf",
   "metadata": {},
   "outputs": [],
   "source": [
    "!python -m gomoku \\\n",
    "    --discover-agents . \\\n",
    "    play --log runs/mochen_vs_yunsi.json --html \\\n",
    "    mochen_agent.GomokuAgent:mochen \\\n",
    "    yunsi_agent.GomokuAgent:yunsi"
   ]
  },
  {
   "cell_type": "markdown",
   "id": "388f5323",
   "metadata": {},
   "source": [
    "### Mochen v.s. Champion"
   ]
  },
  {
   "cell_type": "code",
   "execution_count": null,
   "id": "ea288581",
   "metadata": {},
   "outputs": [],
   "source": [
    "!python -m gomoku \\\n",
    "    --discover-agents . \\\n",
    "    play --log runs/mochen_vs_champion.json --html \\\n",
    "    mochen_agent.GomokuAgent:mochen \\\n",
    "    gomoku_agent.GomokuAgent:GOMOKU"
   ]
  },
  {
   "cell_type": "markdown",
   "id": "397b414d",
   "metadata": {},
   "source": [
    "## Seng Zhan"
   ]
  },
  {
   "cell_type": "markdown",
   "id": "cf98eae5",
   "metadata": {},
   "source": [
    "### Seng Zhan v.s. Simple"
   ]
  },
  {
   "cell_type": "code",
   "execution_count": null,
   "id": "1c050618",
   "metadata": {},
   "outputs": [],
   "source": [
    "!python -m gomoku \\\n",
    "    --discover-agents . \\\n",
    "    play --log runs/sengzhan_vs_simple.json --html \\\n",
    "    sengzhan_agent.GomokuAgent:sengzhan \\\n",
    "    gomoku.agents.simple_agent.SimpleGomokuAgent:simple"
   ]
  },
  {
   "cell_type": "markdown",
   "id": "b7c1e91a",
   "metadata": {},
   "source": [
    "### Seng Zhan v.s. Phi-3.5-mini-instruct"
   ]
  },
  {
   "cell_type": "code",
   "execution_count": null,
   "id": "bdd8802f",
   "metadata": {},
   "outputs": [],
   "source": [
    "# !python -m gomoku \\\n",
    "#     --discover-agents . \\\n",
    "#     play --log runs/sengzhan_vs_phi.json --html \\\n",
    "#     sengzhan_agent.GomokuAgent:sengzhan \\\n",
    "#     gomoku.agents.hf_llm_agent.HfGomokuAgent:phi"
   ]
  },
  {
   "cell_type": "markdown",
   "id": "451fb629",
   "metadata": {},
   "source": [
    "### Seng Zhan v.s. Mistral-7B-Instruct-v0.3 "
   ]
  },
  {
   "cell_type": "code",
   "execution_count": null,
   "id": "a7fc2208",
   "metadata": {},
   "outputs": [],
   "source": [
    "!python -m gomoku \\\n",
    "    --discover-agents . \\\n",
    "    play --log runs/sengzhan_vs_mistral.json --html \\\n",
    "    sengzhan_agent.GomokuAgent:sengzhan \\\n",
    "    gomoku.agents.openai_llm_agent.LLMGomokuAgent:mistral"
   ]
  },
  {
   "cell_type": "markdown",
   "id": "7e1c523b",
   "metadata": {},
   "source": [
    "### Seng Zhan v.s. Mochen"
   ]
  },
  {
   "cell_type": "code",
   "execution_count": null,
   "id": "d5e2de70",
   "metadata": {},
   "outputs": [],
   "source": [
    "!python -m gomoku \\\n",
    "    --discover-agents . \\\n",
    "    play --log runs/sengzhan_vs_mochen.json --html \\\n",
    "    sengzhan_agent.GomokuAgent:sengzhan \\\n",
    "    mochen_agent.GomokuAgent:mochen"
   ]
  },
  {
   "cell_type": "markdown",
   "id": "b7eab649",
   "metadata": {},
   "source": [
    "### Seng Zhan v.s. Yun Si"
   ]
  },
  {
   "cell_type": "code",
   "execution_count": null,
   "id": "88610e64",
   "metadata": {},
   "outputs": [],
   "source": [
    "!python -m gomoku \\\n",
    "    --discover-agents . \\\n",
    "    play --log runs/sengzhan_vs_yunsi.json --html \\\n",
    "    sengzhan_agent.GomokuAgent:sengzhan \\\n",
    "    yunsi_agent.GomokuAgent:yunsi"
   ]
  },
  {
   "cell_type": "markdown",
   "id": "ae643390",
   "metadata": {},
   "source": [
    "### Seng Zhan vs. Champion"
   ]
  },
  {
   "cell_type": "code",
   "execution_count": null,
   "id": "c3a1c403",
   "metadata": {},
   "outputs": [],
   "source": [
    "!python -m gomoku \\\n",
    "    --discover-agents . \\\n",
    "    play --log runs/sengzhan_vs_champion.json --html \\\n",
    "    sengzhan_agent.GomokuAgent:sengzhan \\\n",
    "    gomoku_agent.GomokuAgent:GOMOKU"
   ]
  },
  {
   "cell_type": "markdown",
   "id": "e94bdbde",
   "metadata": {},
   "source": [
    "## Yun Si"
   ]
  },
  {
   "cell_type": "markdown",
   "id": "9b2cdaf4",
   "metadata": {},
   "source": [
    "### Yun Si v.s. Simple"
   ]
  },
  {
   "cell_type": "code",
   "execution_count": null,
   "id": "310ffbd9",
   "metadata": {},
   "outputs": [],
   "source": [
    "!python -m gomoku \\\n",
    "    --discover-agents . \\\n",
    "    play --log runs/yunsi_vs_simple.json --html \\\n",
    "    yunsi_agent.GomokuAgent:yunsi \\\n",
    "    gomoku.agents.simple_agent.SimpleGomokuAgent:simple"
   ]
  },
  {
   "cell_type": "markdown",
   "id": "c08ecca5",
   "metadata": {},
   "source": [
    "### Yun Si v.s. Phi-3.5-mini-instruct"
   ]
  },
  {
   "cell_type": "code",
   "execution_count": null,
   "id": "0945c965",
   "metadata": {},
   "outputs": [],
   "source": [
    "# !python -m gomoku \\\n",
    "#     --discover-agents . \\\n",
    "#     play --log runs/yunsi_vs_phi.json --html \\\n",
    "#     simple_agent.GomokuAgent:yunsi \\\n",
    "#     gomoku.agents.hf_llm_agent.HfGomokuAgent:phi"
   ]
  },
  {
   "cell_type": "markdown",
   "id": "7a6cfd8c",
   "metadata": {},
   "source": [
    "### Yun Si v.s. Mistral-7B-Instruct-v0.3 "
   ]
  },
  {
   "cell_type": "code",
   "execution_count": null,
   "id": "c65c0a9e",
   "metadata": {},
   "outputs": [],
   "source": [
    "!python -m gomoku \\\n",
    "    --discover-agents . \\\n",
    "    play --log runs/yunsi_vs_mistral.json --html \\\n",
    "    yunsi_agent.GomokuAgent:yunsi \\\n",
    "    gomoku.agents.openai_llm_agent.LLMGomokuAgent:mistral"
   ]
  },
  {
   "cell_type": "markdown",
   "id": "81faf9dc",
   "metadata": {},
   "source": [
    "### Yun Si v.s. Mochen"
   ]
  },
  {
   "cell_type": "code",
   "execution_count": null,
   "id": "5147c356",
   "metadata": {},
   "outputs": [],
   "source": [
    "!python -m gomoku \\\n",
    "    --discover-agents . \\\n",
    "    play --log runs/yunsi_vs_sengzhan.json --html \\\n",
    "    yunsi_agent.GomokuAgent:yunsi \\\n",
    "    mochen_agent.GomokuAgent:mochen"
   ]
  },
  {
   "cell_type": "markdown",
   "id": "497cd200",
   "metadata": {},
   "source": [
    "### Yun Si v.s. Seng Zhan"
   ]
  },
  {
   "cell_type": "code",
   "execution_count": null,
   "id": "099d71cd",
   "metadata": {},
   "outputs": [],
   "source": [
    "!python -m gomoku \\\n",
    "    --discover-agents . \\\n",
    "    play --log runs/yunsi_vs_sengzhan.json --html \\\n",
    "    yunsi_agent.GomokuAgent:yunsi \\\n",
    "    sengzhan_agent.GomokuAgent:sengzhan"
   ]
  },
  {
   "cell_type": "markdown",
   "id": "6e3a1f15",
   "metadata": {},
   "source": [
    "### Yun Si v.s. Champion"
   ]
  },
  {
   "cell_type": "code",
   "execution_count": null,
   "id": "36828354",
   "metadata": {},
   "outputs": [],
   "source": [
    "!python -m gomoku \\\n",
    "    --discover-agents . \\\n",
    "    play --log runs/yunsi_vs_champion.json --html \\\n",
    "    yunsi_agent.GomokuAgent:yunsi \\\n",
    "    gomoku_agent.GomokuAgent:GOMOKU"
   ]
  }
 ],
 "metadata": {
  "kernelspec": {
   "display_name": "mitb",
   "language": "python",
   "name": "python3"
  },
  "language_info": {
   "codemirror_mode": {
    "name": "ipython",
    "version": 3
   },
   "file_extension": ".py",
   "mimetype": "text/x-python",
   "name": "python",
   "nbconvert_exporter": "python",
   "pygments_lexer": "ipython3",
   "version": "3.12.0"
  }
 },
 "nbformat": 4,
 "nbformat_minor": 5
}
